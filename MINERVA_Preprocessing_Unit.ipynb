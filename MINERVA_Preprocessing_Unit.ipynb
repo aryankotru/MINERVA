{
  "cells": [
    {
      "cell_type": "markdown",
      "metadata": {
        "id": "view-in-github",
        "colab_type": "text"
      },
      "source": [
        "<a href=\"https://colab.research.google.com/github/aryankotru/MINERVA/blob/min_alpha/MINERVA_Preprocessing_Unit.ipynb\" target=\"_parent\"><img src=\"https://colab.research.google.com/assets/colab-badge.svg\" alt=\"Open In Colab\"/></a>"
      ]
    },
    {
      "cell_type": "code",
      "execution_count": null,
      "metadata": {
        "id": "84mv7Y58BapE"
      },
      "outputs": [],
      "source": [
        "import scipy.io\n",
        "import pandas as pd\n",
        "import matplotlib.pyplot as plt\n",
        "import numpy as np\n",
        "import pywt\n",
        "from scipy.stats import entropy\n",
        "from sklearn.preprocessing import MinMaxScaler, StandardScaler\n",
        "from scipy.signal import butter, sosfilt, sosfreqz, lfilter, iirnotch, spectrogram"
      ]
    },
    {
      "cell_type": "markdown",
      "metadata": {
        "id": "v3uyeMIB3-lY"
      },
      "source": [
        "global variable declaration"
      ]
    },
    {
      "cell_type": "code",
      "execution_count": null,
      "metadata": {
        "id": "Vzg0v3bq358C"
      },
      "outputs": [],
      "source": [
        "epoch = 710\n",
        "num_epochs = 12\n",
        "blocks = 2\n",
        "# Sample rate and desired cutoff frequencies (in Hz)*\n",
        "fs = 250\n",
        "lowcut = 1\n",
        "highcut = 30\n",
        "filter_order = 9\n",
        "notch_quality_factor = 0.693\n",
        "wavelet = 'sym9'\n",
        "\n",
        "freq_bands = {\"delta\": [0.3, 4], \"theta\": [4, 8], \"alpha\": [8, 13], \"beta\": [13, 30], \"gamma\": [30, 50]}\n",
        "chars = [\"1\", \"2\", \"3\", \"4\", \"5\", \"6\", \"7\", \"8\", \"9\", \"0\", \"*\", \"#\"]\n",
        "stim_freqs = {9.25: 0, 11.25 : 0, 13.25 : 0, 9.75 : 0.5 , 11.75 : 0.5 , 13.75 : 0.5, 10.25 : 1, 12.25 : 1, 14.25: 1, 10.75 : 1.5, 12.75 : 1.5, 14.75 : 1.5}\n",
        "\n",
        "channel_names = [\"POz\", \"PO3\", \"PO4\", \"PO5\", \"PO6\", \"Oz\", \"O1\", \"O2\"]\n",
        "\n",
        "T =  2.84\n",
        "nsamples = T * fs\n",
        "t = np.arange(0, epoch) / fs"
      ]
    },
    {
      "cell_type": "markdown",
      "source": [
        "input data"
      ],
      "metadata": {
        "id": "_9WB65oP0tj6"
      }
    },
    {
      "cell_type": "code",
      "execution_count": null,
      "metadata": {
        "id": "Fm60kSchN6TD"
      },
      "outputs": [],
      "source": [
        "#Load EEG data from the csv file\n",
        "df = pd.read_csv(\"S001.csv\", header = None)\n",
        "df = np.transpose(df)"
      ]
    },
    {
      "cell_type": "code",
      "source": [
        "df.columns = channel_names\n",
        "df"
      ],
      "metadata": {
        "id": "0i5wB0WVDLvY",
        "colab": {
          "base_uri": "https://localhost:8080/",
          "height": 423
        },
        "outputId": "59e741c2-5428-48c2-9d9c-75b67a4374b6"
      },
      "execution_count": null,
      "outputs": [
        {
          "output_type": "execute_result",
          "data": {
            "text/plain": [
              "                 POz           PO3           PO4           PO5           PO6  \\\n",
              "0      -52325.520058 -18745.512888 -21403.269255 -15633.971431 -20347.417614   \n",
              "1      -53157.228420 -18924.997385 -22218.034996 -15684.843998 -20429.269697   \n",
              "2      -55446.940985 -18735.454603 -23016.528667 -15365.258775 -20164.356838   \n",
              "3      -55945.653078 -18482.030540 -22753.001616 -15137.583920 -19940.481778   \n",
              "4      -54100.159055 -18461.198715 -21738.858327 -15286.223011 -20024.747850   \n",
              "...              ...           ...           ...           ...           ...   \n",
              "170395  12259.662882  11984.289407  11000.365675  11004.657209   6387.859964   \n",
              "170396  12163.639794  11957.243798  10855.884007  10989.636838   6245.568767   \n",
              "170397  12169.183026  11944.637414  10865.539960  10982.797204   6247.759238   \n",
              "170398  12247.369423  11972.308872  10988.519251  10995.582401   6361.574314   \n",
              "170399  12306.556839  11994.750023  11076.674526  11007.339418   6456.032780   \n",
              "\n",
              "                  Oz            O1            O2  \n",
              "0       -9890.825146 -21657.900313 -18416.808153  \n",
              "1       -9916.037912 -21772.430645 -18462.495116  \n",
              "2       -9598.106718 -21580.205654 -18162.221799  \n",
              "3       -9375.259839 -21344.081840 -17942.995902  \n",
              "4       -9530.604454 -21378.190600 -18058.777932  \n",
              "...              ...           ...           ...  \n",
              "170395  13515.428514  14307.306070  13128.832765  \n",
              "170396  13490.215748  14325.992127  13112.739510  \n",
              "170397  13501.033992  14342.487713  13133.794852  \n",
              "170398  13502.017468  14304.489750  13105.452842  \n",
              "170399  13518.781276  14288.977640  13106.123394  \n",
              "\n",
              "[170400 rows x 8 columns]"
            ],
            "text/html": [
              "\n",
              "  <div id=\"df-6e52a88a-9242-448a-b95f-85691566a8ce\" class=\"colab-df-container\">\n",
              "    <div>\n",
              "<style scoped>\n",
              "    .dataframe tbody tr th:only-of-type {\n",
              "        vertical-align: middle;\n",
              "    }\n",
              "\n",
              "    .dataframe tbody tr th {\n",
              "        vertical-align: top;\n",
              "    }\n",
              "\n",
              "    .dataframe thead th {\n",
              "        text-align: right;\n",
              "    }\n",
              "</style>\n",
              "<table border=\"1\" class=\"dataframe\">\n",
              "  <thead>\n",
              "    <tr style=\"text-align: right;\">\n",
              "      <th></th>\n",
              "      <th>POz</th>\n",
              "      <th>PO3</th>\n",
              "      <th>PO4</th>\n",
              "      <th>PO5</th>\n",
              "      <th>PO6</th>\n",
              "      <th>Oz</th>\n",
              "      <th>O1</th>\n",
              "      <th>O2</th>\n",
              "    </tr>\n",
              "  </thead>\n",
              "  <tbody>\n",
              "    <tr>\n",
              "      <th>0</th>\n",
              "      <td>-52325.520058</td>\n",
              "      <td>-18745.512888</td>\n",
              "      <td>-21403.269255</td>\n",
              "      <td>-15633.971431</td>\n",
              "      <td>-20347.417614</td>\n",
              "      <td>-9890.825146</td>\n",
              "      <td>-21657.900313</td>\n",
              "      <td>-18416.808153</td>\n",
              "    </tr>\n",
              "    <tr>\n",
              "      <th>1</th>\n",
              "      <td>-53157.228420</td>\n",
              "      <td>-18924.997385</td>\n",
              "      <td>-22218.034996</td>\n",
              "      <td>-15684.843998</td>\n",
              "      <td>-20429.269697</td>\n",
              "      <td>-9916.037912</td>\n",
              "      <td>-21772.430645</td>\n",
              "      <td>-18462.495116</td>\n",
              "    </tr>\n",
              "    <tr>\n",
              "      <th>2</th>\n",
              "      <td>-55446.940985</td>\n",
              "      <td>-18735.454603</td>\n",
              "      <td>-23016.528667</td>\n",
              "      <td>-15365.258775</td>\n",
              "      <td>-20164.356838</td>\n",
              "      <td>-9598.106718</td>\n",
              "      <td>-21580.205654</td>\n",
              "      <td>-18162.221799</td>\n",
              "    </tr>\n",
              "    <tr>\n",
              "      <th>3</th>\n",
              "      <td>-55945.653078</td>\n",
              "      <td>-18482.030540</td>\n",
              "      <td>-22753.001616</td>\n",
              "      <td>-15137.583920</td>\n",
              "      <td>-19940.481778</td>\n",
              "      <td>-9375.259839</td>\n",
              "      <td>-21344.081840</td>\n",
              "      <td>-17942.995902</td>\n",
              "    </tr>\n",
              "    <tr>\n",
              "      <th>4</th>\n",
              "      <td>-54100.159055</td>\n",
              "      <td>-18461.198715</td>\n",
              "      <td>-21738.858327</td>\n",
              "      <td>-15286.223011</td>\n",
              "      <td>-20024.747850</td>\n",
              "      <td>-9530.604454</td>\n",
              "      <td>-21378.190600</td>\n",
              "      <td>-18058.777932</td>\n",
              "    </tr>\n",
              "    <tr>\n",
              "      <th>...</th>\n",
              "      <td>...</td>\n",
              "      <td>...</td>\n",
              "      <td>...</td>\n",
              "      <td>...</td>\n",
              "      <td>...</td>\n",
              "      <td>...</td>\n",
              "      <td>...</td>\n",
              "      <td>...</td>\n",
              "    </tr>\n",
              "    <tr>\n",
              "      <th>170395</th>\n",
              "      <td>12259.662882</td>\n",
              "      <td>11984.289407</td>\n",
              "      <td>11000.365675</td>\n",
              "      <td>11004.657209</td>\n",
              "      <td>6387.859964</td>\n",
              "      <td>13515.428514</td>\n",
              "      <td>14307.306070</td>\n",
              "      <td>13128.832765</td>\n",
              "    </tr>\n",
              "    <tr>\n",
              "      <th>170396</th>\n",
              "      <td>12163.639794</td>\n",
              "      <td>11957.243798</td>\n",
              "      <td>10855.884007</td>\n",
              "      <td>10989.636838</td>\n",
              "      <td>6245.568767</td>\n",
              "      <td>13490.215748</td>\n",
              "      <td>14325.992127</td>\n",
              "      <td>13112.739510</td>\n",
              "    </tr>\n",
              "    <tr>\n",
              "      <th>170397</th>\n",
              "      <td>12169.183026</td>\n",
              "      <td>11944.637414</td>\n",
              "      <td>10865.539960</td>\n",
              "      <td>10982.797204</td>\n",
              "      <td>6247.759238</td>\n",
              "      <td>13501.033992</td>\n",
              "      <td>14342.487713</td>\n",
              "      <td>13133.794852</td>\n",
              "    </tr>\n",
              "    <tr>\n",
              "      <th>170398</th>\n",
              "      <td>12247.369423</td>\n",
              "      <td>11972.308872</td>\n",
              "      <td>10988.519251</td>\n",
              "      <td>10995.582401</td>\n",
              "      <td>6361.574314</td>\n",
              "      <td>13502.017468</td>\n",
              "      <td>14304.489750</td>\n",
              "      <td>13105.452842</td>\n",
              "    </tr>\n",
              "    <tr>\n",
              "      <th>170399</th>\n",
              "      <td>12306.556839</td>\n",
              "      <td>11994.750023</td>\n",
              "      <td>11076.674526</td>\n",
              "      <td>11007.339418</td>\n",
              "      <td>6456.032780</td>\n",
              "      <td>13518.781276</td>\n",
              "      <td>14288.977640</td>\n",
              "      <td>13106.123394</td>\n",
              "    </tr>\n",
              "  </tbody>\n",
              "</table>\n",
              "<p>170400 rows × 8 columns</p>\n",
              "</div>\n",
              "    <div class=\"colab-df-buttons\">\n",
              "\n",
              "  <div class=\"colab-df-container\">\n",
              "    <button class=\"colab-df-convert\" onclick=\"convertToInteractive('df-6e52a88a-9242-448a-b95f-85691566a8ce')\"\n",
              "            title=\"Convert this dataframe to an interactive table.\"\n",
              "            style=\"display:none;\">\n",
              "\n",
              "  <svg xmlns=\"http://www.w3.org/2000/svg\" height=\"24px\" viewBox=\"0 -960 960 960\">\n",
              "    <path d=\"M120-120v-720h720v720H120Zm60-500h600v-160H180v160Zm220 220h160v-160H400v160Zm0 220h160v-160H400v160ZM180-400h160v-160H180v160Zm440 0h160v-160H620v160ZM180-180h160v-160H180v160Zm440 0h160v-160H620v160Z\"/>\n",
              "  </svg>\n",
              "    </button>\n",
              "\n",
              "  <style>\n",
              "    .colab-df-container {\n",
              "      display:flex;\n",
              "      gap: 12px;\n",
              "    }\n",
              "\n",
              "    .colab-df-convert {\n",
              "      background-color: #E8F0FE;\n",
              "      border: none;\n",
              "      border-radius: 50%;\n",
              "      cursor: pointer;\n",
              "      display: none;\n",
              "      fill: #1967D2;\n",
              "      height: 32px;\n",
              "      padding: 0 0 0 0;\n",
              "      width: 32px;\n",
              "    }\n",
              "\n",
              "    .colab-df-convert:hover {\n",
              "      background-color: #E2EBFA;\n",
              "      box-shadow: 0px 1px 2px rgba(60, 64, 67, 0.3), 0px 1px 3px 1px rgba(60, 64, 67, 0.15);\n",
              "      fill: #174EA6;\n",
              "    }\n",
              "\n",
              "    .colab-df-buttons div {\n",
              "      margin-bottom: 4px;\n",
              "    }\n",
              "\n",
              "    [theme=dark] .colab-df-convert {\n",
              "      background-color: #3B4455;\n",
              "      fill: #D2E3FC;\n",
              "    }\n",
              "\n",
              "    [theme=dark] .colab-df-convert:hover {\n",
              "      background-color: #434B5C;\n",
              "      box-shadow: 0px 1px 3px 1px rgba(0, 0, 0, 0.15);\n",
              "      filter: drop-shadow(0px 1px 2px rgba(0, 0, 0, 0.3));\n",
              "      fill: #FFFFFF;\n",
              "    }\n",
              "  </style>\n",
              "\n",
              "    <script>\n",
              "      const buttonEl =\n",
              "        document.querySelector('#df-6e52a88a-9242-448a-b95f-85691566a8ce button.colab-df-convert');\n",
              "      buttonEl.style.display =\n",
              "        google.colab.kernel.accessAllowed ? 'block' : 'none';\n",
              "\n",
              "      async function convertToInteractive(key) {\n",
              "        const element = document.querySelector('#df-6e52a88a-9242-448a-b95f-85691566a8ce');\n",
              "        const dataTable =\n",
              "          await google.colab.kernel.invokeFunction('convertToInteractive',\n",
              "                                                    [key], {});\n",
              "        if (!dataTable) return;\n",
              "\n",
              "        const docLinkHtml = 'Like what you see? Visit the ' +\n",
              "          '<a target=\"_blank\" href=https://colab.research.google.com/notebooks/data_table.ipynb>data table notebook</a>'\n",
              "          + ' to learn more about interactive tables.';\n",
              "        element.innerHTML = '';\n",
              "        dataTable['output_type'] = 'display_data';\n",
              "        await google.colab.output.renderOutput(dataTable, element);\n",
              "        const docLink = document.createElement('div');\n",
              "        docLink.innerHTML = docLinkHtml;\n",
              "        element.appendChild(docLink);\n",
              "      }\n",
              "    </script>\n",
              "  </div>\n",
              "\n",
              "\n",
              "<div id=\"df-807942ae-9606-4342-87dc-156a47abf7d1\">\n",
              "  <button class=\"colab-df-quickchart\" onclick=\"quickchart('df-807942ae-9606-4342-87dc-156a47abf7d1')\"\n",
              "            title=\"Suggest charts\"\n",
              "            style=\"display:none;\">\n",
              "\n",
              "<svg xmlns=\"http://www.w3.org/2000/svg\" height=\"24px\"viewBox=\"0 0 24 24\"\n",
              "     width=\"24px\">\n",
              "    <g>\n",
              "        <path d=\"M19 3H5c-1.1 0-2 .9-2 2v14c0 1.1.9 2 2 2h14c1.1 0 2-.9 2-2V5c0-1.1-.9-2-2-2zM9 17H7v-7h2v7zm4 0h-2V7h2v10zm4 0h-2v-4h2v4z\"/>\n",
              "    </g>\n",
              "</svg>\n",
              "  </button>\n",
              "\n",
              "<style>\n",
              "  .colab-df-quickchart {\n",
              "      --bg-color: #E8F0FE;\n",
              "      --fill-color: #1967D2;\n",
              "      --hover-bg-color: #E2EBFA;\n",
              "      --hover-fill-color: #174EA6;\n",
              "      --disabled-fill-color: #AAA;\n",
              "      --disabled-bg-color: #DDD;\n",
              "  }\n",
              "\n",
              "  [theme=dark] .colab-df-quickchart {\n",
              "      --bg-color: #3B4455;\n",
              "      --fill-color: #D2E3FC;\n",
              "      --hover-bg-color: #434B5C;\n",
              "      --hover-fill-color: #FFFFFF;\n",
              "      --disabled-bg-color: #3B4455;\n",
              "      --disabled-fill-color: #666;\n",
              "  }\n",
              "\n",
              "  .colab-df-quickchart {\n",
              "    background-color: var(--bg-color);\n",
              "    border: none;\n",
              "    border-radius: 50%;\n",
              "    cursor: pointer;\n",
              "    display: none;\n",
              "    fill: var(--fill-color);\n",
              "    height: 32px;\n",
              "    padding: 0;\n",
              "    width: 32px;\n",
              "  }\n",
              "\n",
              "  .colab-df-quickchart:hover {\n",
              "    background-color: var(--hover-bg-color);\n",
              "    box-shadow: 0 1px 2px rgba(60, 64, 67, 0.3), 0 1px 3px 1px rgba(60, 64, 67, 0.15);\n",
              "    fill: var(--button-hover-fill-color);\n",
              "  }\n",
              "\n",
              "  .colab-df-quickchart-complete:disabled,\n",
              "  .colab-df-quickchart-complete:disabled:hover {\n",
              "    background-color: var(--disabled-bg-color);\n",
              "    fill: var(--disabled-fill-color);\n",
              "    box-shadow: none;\n",
              "  }\n",
              "\n",
              "  .colab-df-spinner {\n",
              "    border: 2px solid var(--fill-color);\n",
              "    border-color: transparent;\n",
              "    border-bottom-color: var(--fill-color);\n",
              "    animation:\n",
              "      spin 1s steps(1) infinite;\n",
              "  }\n",
              "\n",
              "  @keyframes spin {\n",
              "    0% {\n",
              "      border-color: transparent;\n",
              "      border-bottom-color: var(--fill-color);\n",
              "      border-left-color: var(--fill-color);\n",
              "    }\n",
              "    20% {\n",
              "      border-color: transparent;\n",
              "      border-left-color: var(--fill-color);\n",
              "      border-top-color: var(--fill-color);\n",
              "    }\n",
              "    30% {\n",
              "      border-color: transparent;\n",
              "      border-left-color: var(--fill-color);\n",
              "      border-top-color: var(--fill-color);\n",
              "      border-right-color: var(--fill-color);\n",
              "    }\n",
              "    40% {\n",
              "      border-color: transparent;\n",
              "      border-right-color: var(--fill-color);\n",
              "      border-top-color: var(--fill-color);\n",
              "    }\n",
              "    60% {\n",
              "      border-color: transparent;\n",
              "      border-right-color: var(--fill-color);\n",
              "    }\n",
              "    80% {\n",
              "      border-color: transparent;\n",
              "      border-right-color: var(--fill-color);\n",
              "      border-bottom-color: var(--fill-color);\n",
              "    }\n",
              "    90% {\n",
              "      border-color: transparent;\n",
              "      border-bottom-color: var(--fill-color);\n",
              "    }\n",
              "  }\n",
              "</style>\n",
              "\n",
              "  <script>\n",
              "    async function quickchart(key) {\n",
              "      const quickchartButtonEl =\n",
              "        document.querySelector('#' + key + ' button');\n",
              "      quickchartButtonEl.disabled = true;  // To prevent multiple clicks.\n",
              "      quickchartButtonEl.classList.add('colab-df-spinner');\n",
              "      try {\n",
              "        const charts = await google.colab.kernel.invokeFunction(\n",
              "            'suggestCharts', [key], {});\n",
              "      } catch (error) {\n",
              "        console.error('Error during call to suggestCharts:', error);\n",
              "      }\n",
              "      quickchartButtonEl.classList.remove('colab-df-spinner');\n",
              "      quickchartButtonEl.classList.add('colab-df-quickchart-complete');\n",
              "    }\n",
              "    (() => {\n",
              "      let quickchartButtonEl =\n",
              "        document.querySelector('#df-807942ae-9606-4342-87dc-156a47abf7d1 button');\n",
              "      quickchartButtonEl.style.display =\n",
              "        google.colab.kernel.accessAllowed ? 'block' : 'none';\n",
              "    })();\n",
              "  </script>\n",
              "</div>\n",
              "\n",
              "  <div id=\"id_a38672bc-dbd5-41da-98a5-608c2cbdd3da\">\n",
              "    <style>\n",
              "      .colab-df-generate {\n",
              "        background-color: #E8F0FE;\n",
              "        border: none;\n",
              "        border-radius: 50%;\n",
              "        cursor: pointer;\n",
              "        display: none;\n",
              "        fill: #1967D2;\n",
              "        height: 32px;\n",
              "        padding: 0 0 0 0;\n",
              "        width: 32px;\n",
              "      }\n",
              "\n",
              "      .colab-df-generate:hover {\n",
              "        background-color: #E2EBFA;\n",
              "        box-shadow: 0px 1px 2px rgba(60, 64, 67, 0.3), 0px 1px 3px 1px rgba(60, 64, 67, 0.15);\n",
              "        fill: #174EA6;\n",
              "      }\n",
              "\n",
              "      [theme=dark] .colab-df-generate {\n",
              "        background-color: #3B4455;\n",
              "        fill: #D2E3FC;\n",
              "      }\n",
              "\n",
              "      [theme=dark] .colab-df-generate:hover {\n",
              "        background-color: #434B5C;\n",
              "        box-shadow: 0px 1px 3px 1px rgba(0, 0, 0, 0.15);\n",
              "        filter: drop-shadow(0px 1px 2px rgba(0, 0, 0, 0.3));\n",
              "        fill: #FFFFFF;\n",
              "      }\n",
              "    </style>\n",
              "    <button class=\"colab-df-generate\" onclick=\"generateWithVariable('df')\"\n",
              "            title=\"Generate code using this dataframe.\"\n",
              "            style=\"display:none;\">\n",
              "\n",
              "  <svg xmlns=\"http://www.w3.org/2000/svg\" height=\"24px\"viewBox=\"0 0 24 24\"\n",
              "       width=\"24px\">\n",
              "    <path d=\"M7,19H8.4L18.45,9,17,7.55,7,17.6ZM5,21V16.75L18.45,3.32a2,2,0,0,1,2.83,0l1.4,1.43a1.91,1.91,0,0,1,.58,1.4,1.91,1.91,0,0,1-.58,1.4L9.25,21ZM18.45,9,17,7.55Zm-12,3A5.31,5.31,0,0,0,4.9,8.1,5.31,5.31,0,0,0,1,6.5,5.31,5.31,0,0,0,4.9,4.9,5.31,5.31,0,0,0,6.5,1,5.31,5.31,0,0,0,8.1,4.9,5.31,5.31,0,0,0,12,6.5,5.46,5.46,0,0,0,6.5,12Z\"/>\n",
              "  </svg>\n",
              "    </button>\n",
              "    <script>\n",
              "      (() => {\n",
              "      const buttonEl =\n",
              "        document.querySelector('#id_a38672bc-dbd5-41da-98a5-608c2cbdd3da button.colab-df-generate');\n",
              "      buttonEl.style.display =\n",
              "        google.colab.kernel.accessAllowed ? 'block' : 'none';\n",
              "\n",
              "      buttonEl.onclick = () => {\n",
              "        google.colab.notebook.generateWithVariable('df');\n",
              "      }\n",
              "      })();\n",
              "    </script>\n",
              "  </div>\n",
              "\n",
              "    </div>\n",
              "  </div>\n"
            ],
            "application/vnd.google.colaboratory.intrinsic+json": {
              "type": "dataframe",
              "variable_name": "df"
            }
          },
          "metadata": {},
          "execution_count": 118
        }
      ]
    },
    {
      "cell_type": "markdown",
      "metadata": {
        "id": "hS6m_tbfSLZA"
      },
      "source": [
        "testing, validation and training data"
      ]
    },
    {
      "cell_type": "code",
      "execution_count": null,
      "metadata": {
        "id": "19VPEwHWRdyL"
      },
      "outputs": [],
      "source": [
        "train, valid, test = np.split(df, [int(0.6*len((df))), int(0.8*len(df))])\n",
        "num_rows, num_cols = df.shape\n",
        "num_epochs = int((num_rows)/epoch)\n",
        "#num_epochs"
      ]
    },
    {
      "cell_type": "markdown",
      "metadata": {
        "id": "n1wwy0mEsFip"
      },
      "source": [
        "data filtering"
      ]
    },
    {
      "cell_type": "code",
      "execution_count": null,
      "metadata": {
        "id": "T3aQmMENiHap"
      },
      "outputs": [],
      "source": [
        "def notch_filter(data, rate, freq, quality):\n",
        "\n",
        "    x = scipy.signal.filtfilt(*scipy.signal.iirnotch(freq / (rate / 2), quality), data)\n",
        "    #https://neuraldatascience.io/7-eeg/erp_filtering.html\n",
        "    return x\n",
        "\n",
        "def butter_bandpass(lowcut, highcut, fs, order=filter_order):\n",
        "        nyq = 0.5 * fs #\n",
        "        low = lowcut / nyq\n",
        "        high = highcut / nyq\n",
        "        sos = butter(order, [low, high], analog=False, btype='band', output='sos')\n",
        "        return sos\n",
        "\n",
        "def butter_bandpass_filter(data, lowcut, highcut, fs, order=filter_order):\n",
        "        sos = butter_bandpass(lowcut, highcut, fs, order=order)\n",
        "        y = sosfilt(sos, data)\n",
        "        return y"
      ]
    },
    {
      "cell_type": "markdown",
      "source": [
        "data normalization"
      ],
      "metadata": {
        "id": "ihVd8UWUrwLN"
      }
    },
    {
      "cell_type": "code",
      "source": [
        "def dataset_scaler(dataframe):\n",
        "  #problem is its happening column wise, make it happen row wise or change data\n",
        "  scaler = MinMaxScaler() #normalizing data points, object of class StandardScaler\n",
        "  minmax_scaled_data = scaler.fit_transform((dataframe))\n",
        "  np.reshape(minmax_scaled_data, dataframe.shape)\n",
        "  scaled_data = np.vstack((minmax_scaled_data))\n",
        "  plt.figure()\n",
        "  dfa = pd.DataFrame(minmax_scaled_data)\n",
        "  #dfa.columns = cols #index for columns\n",
        "  return dfa"
      ],
      "metadata": {
        "id": "iSHIUHkLbrPV"
      },
      "execution_count": null,
      "outputs": []
    },
    {
      "cell_type": "code",
      "source": [
        "#train = dataset_scaler(train)\n",
        "df = dataset_scaler(df) #only transform training data"
      ],
      "metadata": {
        "id": "sJwfc46sMEhz",
        "colab": {
          "base_uri": "https://localhost:8080/",
          "height": 34
        },
        "outputId": "b03017f4-1cde-497f-d95a-33785f600a1b"
      },
      "execution_count": null,
      "outputs": [
        {
          "output_type": "display_data",
          "data": {
            "text/plain": [
              "<Figure size 640x480 with 0 Axes>"
            ]
          },
          "metadata": {}
        }
      ]
    },
    {
      "cell_type": "code",
      "source": [
        "def calculate_features(coeffs):\n",
        "    mean_val = np.mean(coeffs)\n",
        "    std_val = np.std(coeffs)\n",
        "    skewness_val = scipy.stats.skew(coeffs)\n",
        "    entropy_val = entropy(np.abs(coeffs))\n",
        "    return mean_val, std_val, skewness_val, entropy_val\n",
        "feature_names = ['mean', 'std', 'skewness', 'entropy']"
      ],
      "metadata": {
        "id": "e34dY9IAOSPc"
      },
      "execution_count": null,
      "outputs": []
    },
    {
      "cell_type": "code",
      "source": [
        "\n",
        "for n in range(7):\n",
        "  data = df.iloc[:epoch, 0]\n",
        "  coeffs = pywt.wavedec(data, wavelet)\n",
        "  # Plot the detail coefficients\n",
        "  for i, coeff in enumerate(coeffs[1:], 1):\n",
        "    if(i ==1):\n",
        "      continue\n",
        "    else:\n",
        "      plt.figure(figsize=(10, 8))\n",
        "      plt.subplot(len(coeffs) - 1, 1, i)\n",
        "      plt.plot(coeff)\n",
        "      plt.title(f'Detail Coefficients Level {i}')\n",
        "  plt.figure(figsize=(10, 8))\n",
        "  plt.subplot(len(coeffs) -1, 1, 1)\n",
        "  plt.plot(coeffs[0])\n",
        "  plt.title(f'Approximation Coefficients Level {i} for Channel {n+1}')\n",
        "  plt.tight_layout()\n",
        "  plt.show()\n",
        "#https://drive.google.com/file/d/1Axi2NdCyutM_eVkewdMsQgotnqzJAWNP/view\n",
        "#ON HOLD FOR TIME BEING, FINISH FIRST PASS IMPLEMENTATION, THEM COME BACK, FIGURE THIS OUT AND FINE TUNE"
      ],
      "metadata": {
        "id": "bR6nAZYcC54i"
      },
      "execution_count": null,
      "outputs": []
    },
    {
      "cell_type": "markdown",
      "source": [
        "wavelet transform & feature extraction"
      ],
      "metadata": {
        "id": "GEaa0793iHfB"
      }
    },
    {
      "cell_type": "code",
      "source": [
        "def feature_generator(df, channel_names, epoch_len):\n",
        "  #feature_df = pd.DataFrame()\n",
        "  channel_list = []\n",
        "  channel_dict = {}\n",
        "  num_epochs = int(len(df.index)/epoch_len)\n",
        "  #print(num_epochs)\n",
        "\n",
        "  for channel in range(len(channel_names)):\n",
        "    channel_list = []\n",
        "    for n in range(num_epochs):\n",
        "      data = df.iloc[n*epoch_len:(n+1)*epoch_len, channel]\n",
        "      coeffs = pywt.wavedec(data, wavelet)\n",
        "      for i, coeff in enumerate(coeffs[2:], 1):\n",
        "          #print(f'Detail Coefficients Level {i}')\n",
        "          mean, std, sk, se = calculate_features(coeff) #calculate features for detail coefficients\n",
        "          #feature = calculate_features(coeff)\n",
        "          channel_list.append(mean)\n",
        "          channel_list.append(std)\n",
        "          channel_list.append(sk)\n",
        "          channel_list.append(se)\n",
        "      mean, std, sk, se = calculate_features(coeffs[0]) #calculate features for approximation coefficients\n",
        "      channel_list.append(mean)\n",
        "      channel_list.append(std)\n",
        "      channel_list.append(sk)\n",
        "      channel_list.append(se)\n",
        "    #print(f\"For channel {channel} length is: \" + str(len(channel_list)))\n",
        "    channel_dict[channel_names[channel]] = channel_list\n",
        "    #print(channel_dict[channel_names[channel]])\n",
        "    feature_df = pd.DataFrame.from_dict(channel_dict)\n",
        "\n",
        "    #ADD DATASET LABELLER\n",
        "  return feature_df\n",
        "\n",
        "    #print(f'Approx. Coefficients Level {i} for Channel {channel} epoch {n}')\n",
        "\n",
        "  #print(channel_list)\n",
        "  #channel_dict = {key: val for val, key in enumerate(channel_dict.keys(), channel_list)}\n",
        "\n",
        "#feature_generator(train, channel_names, 710)\n"
      ],
      "metadata": {
        "id": "hy0FEhZ4ZQvu"
      },
      "execution_count": null,
      "outputs": []
    },
    {
      "cell_type": "markdown",
      "source": [
        "dataset labeller"
      ],
      "metadata": {
        "id": "oWMRRYChlCsu"
      }
    },
    {
      "cell_type": "code",
      "source": [
        "window_size = 20\n",
        "#labels = [chars[i] for i in range(len(chars))]\n",
        "\n",
        "short_list = list(range(10))  # Example short list: [0, 1, 2, ..., 9]\n",
        "long_array = list(range(100)) # Example long array: [0, 1, 2, ..., 99]\n",
        "\n",
        "for i in range(len(da.index)):\n",
        "    index = i % len(chars)\n",
        "    print(chars[index], da.index[i])"
      ],
      "metadata": {
        "id": "4QWOnN8alCBo"
      },
      "execution_count": null,
      "outputs": []
    },
    {
      "cell_type": "markdown",
      "source": [
        "main function"
      ],
      "metadata": {
        "id": "zQAHLWm9Q8PQ"
      }
    },
    {
      "cell_type": "code",
      "source": [
        "def preprocessing(dataframe, epoch_len):\n",
        "   filtered_df = pd.DataFrame(columns=df.columns)\n",
        "   num_epochs = int(len(dataframe.index)/epoch_len)\n",
        "   #print(num_epochs)\n",
        "\n",
        "   for channel, i in enumerate(dataframe.columns):\n",
        "      filtered_col_data = []\n",
        "      for n in range(num_epochs):\n",
        "          data = dataframe.iloc[n*epoch:(n+1)*epoch, channel]\n",
        "          data = notch_filter(data, fs, 50, notch_quality_factor)\n",
        "          data = butter_bandpass_filter(data, lowcut, highcut, fs, order=filter_order)\n",
        "          filtered_col_data.extend(data)\n",
        "      filtered_df[i] = filtered_col_data\n",
        "   filtered_df = dataset_scaler(filtered_df) #scale dataset after filtering\n",
        "   feature_df = feature_generator(filtered_df, channel_names, epoch_len) #extract and store features\n",
        "\n",
        "   return feature_df\n",
        "\n",
        "\n",
        "\n",
        "da = preprocessing(df, 710)"
      ],
      "metadata": {
        "id": "sdMgwNFeeZ9J",
        "colab": {
          "base_uri": "https://localhost:8080/",
          "height": 34
        },
        "outputId": "4a129825-a4b0-42cc-c90a-718029d9efd2"
      },
      "execution_count": null,
      "outputs": [
        {
          "output_type": "display_data",
          "data": {
            "text/plain": [
              "<Figure size 640x480 with 0 Axes>"
            ]
          },
          "metadata": {}
        }
      ]
    },
    {
      "cell_type": "code",
      "source": [
        "def dataset_output(dataframe):\n",
        "  #dataframe.name = #\n",
        "  #file_name = f'{dataframe.name}.xlsx'\n",
        "  dataset = da.to_excel('test2.xlsx', sheet_name='sheet1', index=False, float_format = \"%.7f\")\n",
        "  return dataset\n",
        "\n",
        "dataset_output(da)"
      ],
      "metadata": {
        "id": "bSIVF1hEhuJl"
      },
      "execution_count": null,
      "outputs": []
    },
    {
      "cell_type": "code",
      "source": [
        "da.to_excel('test1.xlsx', sheet_name='sheet1', index=False, float_format = \"%.7f\")"
      ],
      "metadata": {
        "id": "-UsKVUTaR4qo"
      },
      "execution_count": null,
      "outputs": []
    }
  ],
  "metadata": {
    "colab": {
      "provenance": [],
      "include_colab_link": true
    },
    "kernelspec": {
      "display_name": "Python 3",
      "name": "python3"
    },
    "language_info": {
      "name": "python"
    }
  },
  "nbformat": 4,
  "nbformat_minor": 0
}