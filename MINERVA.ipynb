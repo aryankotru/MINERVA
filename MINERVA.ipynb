{
  "cells": [
    {
      "cell_type": "markdown",
      "metadata": {
        "id": "view-in-github",
        "colab_type": "text"
      },
      "source": [
        "<a href=\"https://colab.research.google.com/github/aryankotru/MINERVA/blob/main/MINERVA.ipynb\" target=\"_parent\"><img src=\"https://colab.research.google.com/assets/colab-badge.svg\" alt=\"Open In Colab\"/></a>"
      ]
    },
    {
      "cell_type": "code",
      "execution_count": 1,
      "metadata": {
        "id": "84mv7Y58BapE"
      },
      "outputs": [],
      "source": [
        "import scipy.io\n",
        "import pandas as pd\n",
        "import matplotlib.pyplot as plt\n",
        "import numpy as np\n",
        "import pywt\n",
        "from scipy.stats import entropy\n",
        "from sklearn.preprocessing import MinMaxScaler, StandardScaler\n",
        "from scipy.signal import butter, sosfilt, sosfreqz, lfilter, iirnotch, spectrogram"
      ]
    },
    {
      "cell_type": "markdown",
      "metadata": {
        "id": "v3uyeMIB3-lY"
      },
      "source": [
        "global variable declaration"
      ]
    },
    {
      "cell_type": "code",
      "execution_count": 79,
      "metadata": {
        "id": "Vzg0v3bq358C"
      },
      "outputs": [],
      "source": [
        "epoch = 710\n",
        "num_epochs = 12\n",
        "blocks = 2\n",
        "# Sample rate and desired cutoff frequencies (in Hz)*\n",
        "fs = 250\n",
        "lowcut = 1\n",
        "highcut = 30\n",
        "filter_order = 9\n",
        "notch_quality_factor = 0.693\n",
        "wavelet = 'sym9'\n",
        "\n",
        "freq_bands = {\"delta\": [0.3, 4], \"theta\": [4, 8], \"alpha\": [8, 13], \"beta\": [13, 30], \"gamma\": [30, 50]}\n",
        "chars = [\"1\", \"2\", \"3\", \"4\", \"5\", \"6\", \"7\", \"8\", \"9\", \"0\", \"*\", \"#\"]\n",
        "stim_freqs = {9.25: 0, 11.25 : 0, 13.25 : 0, 9.75 : 0.5 , 11.75 : 0.5 , 13.75 : 0.5, 10.25 : 1, 12.25 : 1, 14.25: 1, 10.75 : 1.5, 12.75 : 1.5, 14.75 : 1.5}\n",
        "\n",
        "channel_names = [\"POz\", \"PO3\", \"PO4\", \"PO5\", \"PO6\", \"Oz\", \"O1\", \"O2\"]\n",
        "\n",
        "T =  2.84\n",
        "nsamples = T * fs\n",
        "t = np.arange(0, epoch) / fs"
      ]
    },
    {
      "cell_type": "markdown",
      "source": [
        "input data"
      ],
      "metadata": {
        "id": "_9WB65oP0tj6"
      }
    },
    {
      "cell_type": "code",
      "execution_count": 3,
      "metadata": {
        "id": "Fm60kSchN6TD"
      },
      "outputs": [],
      "source": [
        "#Load EEG data from the csv file\n",
        "df = pd.read_csv(\"S001.csv\", header = None)\n",
        "df = np.transpose(df)"
      ]
    },
    {
      "cell_type": "code",
      "source": [
        "df.columns = channel_names\n",
        "df"
      ],
      "metadata": {
        "id": "0i5wB0WVDLvY",
        "colab": {
          "base_uri": "https://localhost:8080/",
          "height": 423
        },
        "outputId": "2d354ddf-adbf-4e6e-88cf-fe1b9ec614aa"
      },
      "execution_count": 80,
      "outputs": [
        {
          "output_type": "execute_result",
          "data": {
            "text/plain": [
              "             POz       PO3       PO4       PO5       PO6        Oz        O1  \\\n",
              "0       0.123467  0.114257  0.124512  0.111462  0.113582  0.107444  0.111674   \n",
              "1       0.112893  0.110927  0.111607  0.110476  0.112080  0.106956  0.109674   \n",
              "2       0.083783  0.114444  0.098959  0.116667  0.116939  0.113104  0.113031   \n",
              "3       0.077442  0.119146  0.103133  0.121078  0.121045  0.117413  0.117155   \n",
              "4       0.100905  0.119532  0.119197  0.118198  0.119499  0.114409  0.116559   \n",
              "...          ...       ...       ...       ...       ...       ...       ...   \n",
              "170395  0.944572  0.684438  0.637771  0.627494  0.603922  0.560036  0.739756   \n",
              "170396  0.943351  0.683937  0.635483  0.627203  0.601312  0.559548  0.740082   \n",
              "170397  0.943422  0.683703  0.635636  0.627071  0.601352  0.559758  0.740370   \n",
              "170398  0.944416  0.684216  0.637584  0.627319  0.603440  0.559777  0.739707   \n",
              "170399  0.945168  0.684632  0.638980  0.627546  0.605172  0.560101  0.739436   \n",
              "\n",
              "              O2  \n",
              "0       0.109825  \n",
              "1       0.109044  \n",
              "2       0.114177  \n",
              "3       0.117924  \n",
              "4       0.115945  \n",
              "...          ...  \n",
              "170395  0.649078  \n",
              "170396  0.648803  \n",
              "170397  0.649163  \n",
              "170398  0.648679  \n",
              "170399  0.648690  \n",
              "\n",
              "[170400 rows x 8 columns]"
            ],
            "text/html": [
              "\n",
              "  <div id=\"df-47ce3893-1a15-4e9c-9e55-502daacd6261\" class=\"colab-df-container\">\n",
              "    <div>\n",
              "<style scoped>\n",
              "    .dataframe tbody tr th:only-of-type {\n",
              "        vertical-align: middle;\n",
              "    }\n",
              "\n",
              "    .dataframe tbody tr th {\n",
              "        vertical-align: top;\n",
              "    }\n",
              "\n",
              "    .dataframe thead th {\n",
              "        text-align: right;\n",
              "    }\n",
              "</style>\n",
              "<table border=\"1\" class=\"dataframe\">\n",
              "  <thead>\n",
              "    <tr style=\"text-align: right;\">\n",
              "      <th></th>\n",
              "      <th>POz</th>\n",
              "      <th>PO3</th>\n",
              "      <th>PO4</th>\n",
              "      <th>PO5</th>\n",
              "      <th>PO6</th>\n",
              "      <th>Oz</th>\n",
              "      <th>O1</th>\n",
              "      <th>O2</th>\n",
              "    </tr>\n",
              "  </thead>\n",
              "  <tbody>\n",
              "    <tr>\n",
              "      <th>0</th>\n",
              "      <td>0.123467</td>\n",
              "      <td>0.114257</td>\n",
              "      <td>0.124512</td>\n",
              "      <td>0.111462</td>\n",
              "      <td>0.113582</td>\n",
              "      <td>0.107444</td>\n",
              "      <td>0.111674</td>\n",
              "      <td>0.109825</td>\n",
              "    </tr>\n",
              "    <tr>\n",
              "      <th>1</th>\n",
              "      <td>0.112893</td>\n",
              "      <td>0.110927</td>\n",
              "      <td>0.111607</td>\n",
              "      <td>0.110476</td>\n",
              "      <td>0.112080</td>\n",
              "      <td>0.106956</td>\n",
              "      <td>0.109674</td>\n",
              "      <td>0.109044</td>\n",
              "    </tr>\n",
              "    <tr>\n",
              "      <th>2</th>\n",
              "      <td>0.083783</td>\n",
              "      <td>0.114444</td>\n",
              "      <td>0.098959</td>\n",
              "      <td>0.116667</td>\n",
              "      <td>0.116939</td>\n",
              "      <td>0.113104</td>\n",
              "      <td>0.113031</td>\n",
              "      <td>0.114177</td>\n",
              "    </tr>\n",
              "    <tr>\n",
              "      <th>3</th>\n",
              "      <td>0.077442</td>\n",
              "      <td>0.119146</td>\n",
              "      <td>0.103133</td>\n",
              "      <td>0.121078</td>\n",
              "      <td>0.121045</td>\n",
              "      <td>0.117413</td>\n",
              "      <td>0.117155</td>\n",
              "      <td>0.117924</td>\n",
              "    </tr>\n",
              "    <tr>\n",
              "      <th>4</th>\n",
              "      <td>0.100905</td>\n",
              "      <td>0.119532</td>\n",
              "      <td>0.119197</td>\n",
              "      <td>0.118198</td>\n",
              "      <td>0.119499</td>\n",
              "      <td>0.114409</td>\n",
              "      <td>0.116559</td>\n",
              "      <td>0.115945</td>\n",
              "    </tr>\n",
              "    <tr>\n",
              "      <th>...</th>\n",
              "      <td>...</td>\n",
              "      <td>...</td>\n",
              "      <td>...</td>\n",
              "      <td>...</td>\n",
              "      <td>...</td>\n",
              "      <td>...</td>\n",
              "      <td>...</td>\n",
              "      <td>...</td>\n",
              "    </tr>\n",
              "    <tr>\n",
              "      <th>170395</th>\n",
              "      <td>0.944572</td>\n",
              "      <td>0.684438</td>\n",
              "      <td>0.637771</td>\n",
              "      <td>0.627494</td>\n",
              "      <td>0.603922</td>\n",
              "      <td>0.560036</td>\n",
              "      <td>0.739756</td>\n",
              "      <td>0.649078</td>\n",
              "    </tr>\n",
              "    <tr>\n",
              "      <th>170396</th>\n",
              "      <td>0.943351</td>\n",
              "      <td>0.683937</td>\n",
              "      <td>0.635483</td>\n",
              "      <td>0.627203</td>\n",
              "      <td>0.601312</td>\n",
              "      <td>0.559548</td>\n",
              "      <td>0.740082</td>\n",
              "      <td>0.648803</td>\n",
              "    </tr>\n",
              "    <tr>\n",
              "      <th>170397</th>\n",
              "      <td>0.943422</td>\n",
              "      <td>0.683703</td>\n",
              "      <td>0.635636</td>\n",
              "      <td>0.627071</td>\n",
              "      <td>0.601352</td>\n",
              "      <td>0.559758</td>\n",
              "      <td>0.740370</td>\n",
              "      <td>0.649163</td>\n",
              "    </tr>\n",
              "    <tr>\n",
              "      <th>170398</th>\n",
              "      <td>0.944416</td>\n",
              "      <td>0.684216</td>\n",
              "      <td>0.637584</td>\n",
              "      <td>0.627319</td>\n",
              "      <td>0.603440</td>\n",
              "      <td>0.559777</td>\n",
              "      <td>0.739707</td>\n",
              "      <td>0.648679</td>\n",
              "    </tr>\n",
              "    <tr>\n",
              "      <th>170399</th>\n",
              "      <td>0.945168</td>\n",
              "      <td>0.684632</td>\n",
              "      <td>0.638980</td>\n",
              "      <td>0.627546</td>\n",
              "      <td>0.605172</td>\n",
              "      <td>0.560101</td>\n",
              "      <td>0.739436</td>\n",
              "      <td>0.648690</td>\n",
              "    </tr>\n",
              "  </tbody>\n",
              "</table>\n",
              "<p>170400 rows × 8 columns</p>\n",
              "</div>\n",
              "    <div class=\"colab-df-buttons\">\n",
              "\n",
              "  <div class=\"colab-df-container\">\n",
              "    <button class=\"colab-df-convert\" onclick=\"convertToInteractive('df-47ce3893-1a15-4e9c-9e55-502daacd6261')\"\n",
              "            title=\"Convert this dataframe to an interactive table.\"\n",
              "            style=\"display:none;\">\n",
              "\n",
              "  <svg xmlns=\"http://www.w3.org/2000/svg\" height=\"24px\" viewBox=\"0 -960 960 960\">\n",
              "    <path d=\"M120-120v-720h720v720H120Zm60-500h600v-160H180v160Zm220 220h160v-160H400v160Zm0 220h160v-160H400v160ZM180-400h160v-160H180v160Zm440 0h160v-160H620v160ZM180-180h160v-160H180v160Zm440 0h160v-160H620v160Z\"/>\n",
              "  </svg>\n",
              "    </button>\n",
              "\n",
              "  <style>\n",
              "    .colab-df-container {\n",
              "      display:flex;\n",
              "      gap: 12px;\n",
              "    }\n",
              "\n",
              "    .colab-df-convert {\n",
              "      background-color: #E8F0FE;\n",
              "      border: none;\n",
              "      border-radius: 50%;\n",
              "      cursor: pointer;\n",
              "      display: none;\n",
              "      fill: #1967D2;\n",
              "      height: 32px;\n",
              "      padding: 0 0 0 0;\n",
              "      width: 32px;\n",
              "    }\n",
              "\n",
              "    .colab-df-convert:hover {\n",
              "      background-color: #E2EBFA;\n",
              "      box-shadow: 0px 1px 2px rgba(60, 64, 67, 0.3), 0px 1px 3px 1px rgba(60, 64, 67, 0.15);\n",
              "      fill: #174EA6;\n",
              "    }\n",
              "\n",
              "    .colab-df-buttons div {\n",
              "      margin-bottom: 4px;\n",
              "    }\n",
              "\n",
              "    [theme=dark] .colab-df-convert {\n",
              "      background-color: #3B4455;\n",
              "      fill: #D2E3FC;\n",
              "    }\n",
              "\n",
              "    [theme=dark] .colab-df-convert:hover {\n",
              "      background-color: #434B5C;\n",
              "      box-shadow: 0px 1px 3px 1px rgba(0, 0, 0, 0.15);\n",
              "      filter: drop-shadow(0px 1px 2px rgba(0, 0, 0, 0.3));\n",
              "      fill: #FFFFFF;\n",
              "    }\n",
              "  </style>\n",
              "\n",
              "    <script>\n",
              "      const buttonEl =\n",
              "        document.querySelector('#df-47ce3893-1a15-4e9c-9e55-502daacd6261 button.colab-df-convert');\n",
              "      buttonEl.style.display =\n",
              "        google.colab.kernel.accessAllowed ? 'block' : 'none';\n",
              "\n",
              "      async function convertToInteractive(key) {\n",
              "        const element = document.querySelector('#df-47ce3893-1a15-4e9c-9e55-502daacd6261');\n",
              "        const dataTable =\n",
              "          await google.colab.kernel.invokeFunction('convertToInteractive',\n",
              "                                                    [key], {});\n",
              "        if (!dataTable) return;\n",
              "\n",
              "        const docLinkHtml = 'Like what you see? Visit the ' +\n",
              "          '<a target=\"_blank\" href=https://colab.research.google.com/notebooks/data_table.ipynb>data table notebook</a>'\n",
              "          + ' to learn more about interactive tables.';\n",
              "        element.innerHTML = '';\n",
              "        dataTable['output_type'] = 'display_data';\n",
              "        await google.colab.output.renderOutput(dataTable, element);\n",
              "        const docLink = document.createElement('div');\n",
              "        docLink.innerHTML = docLinkHtml;\n",
              "        element.appendChild(docLink);\n",
              "      }\n",
              "    </script>\n",
              "  </div>\n",
              "\n",
              "\n",
              "<div id=\"df-b43ece3d-dc46-4498-9ff7-cb8bfaf786a0\">\n",
              "  <button class=\"colab-df-quickchart\" onclick=\"quickchart('df-b43ece3d-dc46-4498-9ff7-cb8bfaf786a0')\"\n",
              "            title=\"Suggest charts\"\n",
              "            style=\"display:none;\">\n",
              "\n",
              "<svg xmlns=\"http://www.w3.org/2000/svg\" height=\"24px\"viewBox=\"0 0 24 24\"\n",
              "     width=\"24px\">\n",
              "    <g>\n",
              "        <path d=\"M19 3H5c-1.1 0-2 .9-2 2v14c0 1.1.9 2 2 2h14c1.1 0 2-.9 2-2V5c0-1.1-.9-2-2-2zM9 17H7v-7h2v7zm4 0h-2V7h2v10zm4 0h-2v-4h2v4z\"/>\n",
              "    </g>\n",
              "</svg>\n",
              "  </button>\n",
              "\n",
              "<style>\n",
              "  .colab-df-quickchart {\n",
              "      --bg-color: #E8F0FE;\n",
              "      --fill-color: #1967D2;\n",
              "      --hover-bg-color: #E2EBFA;\n",
              "      --hover-fill-color: #174EA6;\n",
              "      --disabled-fill-color: #AAA;\n",
              "      --disabled-bg-color: #DDD;\n",
              "  }\n",
              "\n",
              "  [theme=dark] .colab-df-quickchart {\n",
              "      --bg-color: #3B4455;\n",
              "      --fill-color: #D2E3FC;\n",
              "      --hover-bg-color: #434B5C;\n",
              "      --hover-fill-color: #FFFFFF;\n",
              "      --disabled-bg-color: #3B4455;\n",
              "      --disabled-fill-color: #666;\n",
              "  }\n",
              "\n",
              "  .colab-df-quickchart {\n",
              "    background-color: var(--bg-color);\n",
              "    border: none;\n",
              "    border-radius: 50%;\n",
              "    cursor: pointer;\n",
              "    display: none;\n",
              "    fill: var(--fill-color);\n",
              "    height: 32px;\n",
              "    padding: 0;\n",
              "    width: 32px;\n",
              "  }\n",
              "\n",
              "  .colab-df-quickchart:hover {\n",
              "    background-color: var(--hover-bg-color);\n",
              "    box-shadow: 0 1px 2px rgba(60, 64, 67, 0.3), 0 1px 3px 1px rgba(60, 64, 67, 0.15);\n",
              "    fill: var(--button-hover-fill-color);\n",
              "  }\n",
              "\n",
              "  .colab-df-quickchart-complete:disabled,\n",
              "  .colab-df-quickchart-complete:disabled:hover {\n",
              "    background-color: var(--disabled-bg-color);\n",
              "    fill: var(--disabled-fill-color);\n",
              "    box-shadow: none;\n",
              "  }\n",
              "\n",
              "  .colab-df-spinner {\n",
              "    border: 2px solid var(--fill-color);\n",
              "    border-color: transparent;\n",
              "    border-bottom-color: var(--fill-color);\n",
              "    animation:\n",
              "      spin 1s steps(1) infinite;\n",
              "  }\n",
              "\n",
              "  @keyframes spin {\n",
              "    0% {\n",
              "      border-color: transparent;\n",
              "      border-bottom-color: var(--fill-color);\n",
              "      border-left-color: var(--fill-color);\n",
              "    }\n",
              "    20% {\n",
              "      border-color: transparent;\n",
              "      border-left-color: var(--fill-color);\n",
              "      border-top-color: var(--fill-color);\n",
              "    }\n",
              "    30% {\n",
              "      border-color: transparent;\n",
              "      border-left-color: var(--fill-color);\n",
              "      border-top-color: var(--fill-color);\n",
              "      border-right-color: var(--fill-color);\n",
              "    }\n",
              "    40% {\n",
              "      border-color: transparent;\n",
              "      border-right-color: var(--fill-color);\n",
              "      border-top-color: var(--fill-color);\n",
              "    }\n",
              "    60% {\n",
              "      border-color: transparent;\n",
              "      border-right-color: var(--fill-color);\n",
              "    }\n",
              "    80% {\n",
              "      border-color: transparent;\n",
              "      border-right-color: var(--fill-color);\n",
              "      border-bottom-color: var(--fill-color);\n",
              "    }\n",
              "    90% {\n",
              "      border-color: transparent;\n",
              "      border-bottom-color: var(--fill-color);\n",
              "    }\n",
              "  }\n",
              "</style>\n",
              "\n",
              "  <script>\n",
              "    async function quickchart(key) {\n",
              "      const quickchartButtonEl =\n",
              "        document.querySelector('#' + key + ' button');\n",
              "      quickchartButtonEl.disabled = true;  // To prevent multiple clicks.\n",
              "      quickchartButtonEl.classList.add('colab-df-spinner');\n",
              "      try {\n",
              "        const charts = await google.colab.kernel.invokeFunction(\n",
              "            'suggestCharts', [key], {});\n",
              "      } catch (error) {\n",
              "        console.error('Error during call to suggestCharts:', error);\n",
              "      }\n",
              "      quickchartButtonEl.classList.remove('colab-df-spinner');\n",
              "      quickchartButtonEl.classList.add('colab-df-quickchart-complete');\n",
              "    }\n",
              "    (() => {\n",
              "      let quickchartButtonEl =\n",
              "        document.querySelector('#df-b43ece3d-dc46-4498-9ff7-cb8bfaf786a0 button');\n",
              "      quickchartButtonEl.style.display =\n",
              "        google.colab.kernel.accessAllowed ? 'block' : 'none';\n",
              "    })();\n",
              "  </script>\n",
              "</div>\n",
              "\n",
              "  <div id=\"id_ba0cf702-b75a-4d20-b11d-ccc605d46765\">\n",
              "    <style>\n",
              "      .colab-df-generate {\n",
              "        background-color: #E8F0FE;\n",
              "        border: none;\n",
              "        border-radius: 50%;\n",
              "        cursor: pointer;\n",
              "        display: none;\n",
              "        fill: #1967D2;\n",
              "        height: 32px;\n",
              "        padding: 0 0 0 0;\n",
              "        width: 32px;\n",
              "      }\n",
              "\n",
              "      .colab-df-generate:hover {\n",
              "        background-color: #E2EBFA;\n",
              "        box-shadow: 0px 1px 2px rgba(60, 64, 67, 0.3), 0px 1px 3px 1px rgba(60, 64, 67, 0.15);\n",
              "        fill: #174EA6;\n",
              "      }\n",
              "\n",
              "      [theme=dark] .colab-df-generate {\n",
              "        background-color: #3B4455;\n",
              "        fill: #D2E3FC;\n",
              "      }\n",
              "\n",
              "      [theme=dark] .colab-df-generate:hover {\n",
              "        background-color: #434B5C;\n",
              "        box-shadow: 0px 1px 3px 1px rgba(0, 0, 0, 0.15);\n",
              "        filter: drop-shadow(0px 1px 2px rgba(0, 0, 0, 0.3));\n",
              "        fill: #FFFFFF;\n",
              "      }\n",
              "    </style>\n",
              "    <button class=\"colab-df-generate\" onclick=\"generateWithVariable('df')\"\n",
              "            title=\"Generate code using this dataframe.\"\n",
              "            style=\"display:none;\">\n",
              "\n",
              "  <svg xmlns=\"http://www.w3.org/2000/svg\" height=\"24px\"viewBox=\"0 0 24 24\"\n",
              "       width=\"24px\">\n",
              "    <path d=\"M7,19H8.4L18.45,9,17,7.55,7,17.6ZM5,21V16.75L18.45,3.32a2,2,0,0,1,2.83,0l1.4,1.43a1.91,1.91,0,0,1,.58,1.4,1.91,1.91,0,0,1-.58,1.4L9.25,21ZM18.45,9,17,7.55Zm-12,3A5.31,5.31,0,0,0,4.9,8.1,5.31,5.31,0,0,0,1,6.5,5.31,5.31,0,0,0,4.9,4.9,5.31,5.31,0,0,0,6.5,1,5.31,5.31,0,0,0,8.1,4.9,5.31,5.31,0,0,0,12,6.5,5.46,5.46,0,0,0,6.5,12Z\"/>\n",
              "  </svg>\n",
              "    </button>\n",
              "    <script>\n",
              "      (() => {\n",
              "      const buttonEl =\n",
              "        document.querySelector('#id_ba0cf702-b75a-4d20-b11d-ccc605d46765 button.colab-df-generate');\n",
              "      buttonEl.style.display =\n",
              "        google.colab.kernel.accessAllowed ? 'block' : 'none';\n",
              "\n",
              "      buttonEl.onclick = () => {\n",
              "        google.colab.notebook.generateWithVariable('df');\n",
              "      }\n",
              "      })();\n",
              "    </script>\n",
              "  </div>\n",
              "\n",
              "    </div>\n",
              "  </div>\n"
            ],
            "application/vnd.google.colaboratory.intrinsic+json": {
              "type": "dataframe",
              "variable_name": "df"
            }
          },
          "metadata": {},
          "execution_count": 80
        }
      ]
    },
    {
      "cell_type": "markdown",
      "metadata": {
        "id": "hS6m_tbfSLZA"
      },
      "source": [
        "testing, validation and training data"
      ]
    },
    {
      "cell_type": "code",
      "execution_count": 81,
      "metadata": {
        "id": "19VPEwHWRdyL"
      },
      "outputs": [],
      "source": [
        "train, valid, test = np.split(df, [int(0.6*len((df))), int(0.8*len(df))])\n",
        "num_rows, num_cols = df.shape\n",
        "num_epochs = int((num_rows)/epoch)\n",
        "#num_epochs"
      ]
    },
    {
      "cell_type": "markdown",
      "metadata": {
        "id": "n1wwy0mEsFip"
      },
      "source": [
        "data filtering"
      ]
    },
    {
      "cell_type": "code",
      "execution_count": 6,
      "metadata": {
        "id": "T3aQmMENiHap"
      },
      "outputs": [],
      "source": [
        "def notch_filter(data, rate, freq, quality):\n",
        "\n",
        "    x = scipy.signal.filtfilt(*scipy.signal.iirnotch(freq / (rate / 2), quality), data)\n",
        "    #https://neuraldatascience.io/7-eeg/erp_filtering.html\n",
        "    return x\n",
        "\n",
        "def butter_bandpass(lowcut, highcut, fs, order=filter_order):\n",
        "        nyq = 0.5 * fs #\n",
        "        low = lowcut / nyq\n",
        "        high = highcut / nyq\n",
        "        sos = butter(order, [low, high], analog=False, btype='band', output='sos')\n",
        "        return sos\n",
        "\n",
        "def butter_bandpass_filter(data, lowcut, highcut, fs, order=filter_order):\n",
        "        sos = butter_bandpass(lowcut, highcut, fs, order=order)\n",
        "        y = sosfilt(sos, data)\n",
        "        return y"
      ]
    },
    {
      "cell_type": "markdown",
      "source": [
        "data normalization"
      ],
      "metadata": {
        "id": "ihVd8UWUrwLN"
      }
    },
    {
      "cell_type": "code",
      "source": [
        "def dataset_scaler(dataframe):\n",
        "  #problem is its happening column wise, make it happen row wise or change data\n",
        "  scaler = MinMaxScaler() #normalizing data points, object of class StandardScaler\n",
        "  minmax_scaled_data = scaler.fit_transform((dataframe))\n",
        "  np.reshape(minmax_scaled_data, dataframe.shape)\n",
        "  scaled_data = np.vstack((minmax_scaled_data))\n",
        "  plt.figure()\n",
        "  dfa = pd.DataFrame(minmax_scaled_data)\n",
        "  #dfa.columns = cols #index for columns\n",
        "  return dfa"
      ],
      "metadata": {
        "id": "iSHIUHkLbrPV"
      },
      "execution_count": 7,
      "outputs": []
    },
    {
      "cell_type": "code",
      "source": [
        "#train = dataset_scaler(train)\n",
        "df = dataset_scaler(df) #only transform training data"
      ],
      "metadata": {
        "id": "sJwfc46sMEhz",
        "colab": {
          "base_uri": "https://localhost:8080/",
          "height": 34
        },
        "outputId": "c6964173-dac2-46dc-83e9-dcf9c614b2a2"
      },
      "execution_count": 8,
      "outputs": [
        {
          "output_type": "display_data",
          "data": {
            "text/plain": [
              "<Figure size 640x480 with 0 Axes>"
            ]
          },
          "metadata": {}
        }
      ]
    },
    {
      "cell_type": "code",
      "source": [
        "def calculate_features(coeffs):\n",
        "    mean_val = np.mean(coeffs)\n",
        "    std_val = np.std(coeffs)\n",
        "    skewness_val = scipy.stats.skew(coeffs)\n",
        "    entropy_val = entropy(np.abs(coeffs))\n",
        "    return mean_val, std_val, skewness_val, entropy_val\n",
        "feature_names = ['mean', 'std', 'skewness', 'entropy']"
      ],
      "metadata": {
        "id": "e34dY9IAOSPc"
      },
      "execution_count": 13,
      "outputs": []
    },
    {
      "cell_type": "code",
      "source": [
        "\n",
        "for n in range(7):\n",
        "  data = df.iloc[:epoch, 0]\n",
        "  coeffs = pywt.wavedec(data, wavelet)\n",
        "  # Plot the detail coefficients\n",
        "  for i, coeff in enumerate(coeffs[1:], 1):\n",
        "    if(i ==1):\n",
        "      continue\n",
        "    else:\n",
        "      plt.figure(figsize=(10, 8))\n",
        "      plt.subplot(len(coeffs) - 1, 1, i)\n",
        "      plt.plot(coeff)\n",
        "      plt.title(f'Detail Coefficients Level {i}')\n",
        "  plt.figure(figsize=(10, 8))\n",
        "  plt.subplot(len(coeffs) -1, 1, 1)\n",
        "  plt.plot(coeffs[0])\n",
        "  plt.title(f'Approximation Coefficients Level {i} for Channel {n+1}')\n",
        "  plt.tight_layout()\n",
        "  plt.show()\n",
        "#https://drive.google.com/file/d/1Axi2NdCyutM_eVkewdMsQgotnqzJAWNP/view\n",
        "#ON HOLD FOR TIME BEING, FINISH FIRST PASS IMPLEMENTATION, THEM COME BACK, FIGURE THIS OUT AND FINE TUNE"
      ],
      "metadata": {
        "id": "bR6nAZYcC54i"
      },
      "execution_count": null,
      "outputs": []
    },
    {
      "cell_type": "code",
      "source": [
        "epoch_len = 710\n",
        "num_epochs = int(len(df.index)/epoch_len)\n",
        "num_epochs"
      ],
      "metadata": {
        "id": "aAFYqeKpErQL",
        "colab": {
          "base_uri": "https://localhost:8080/"
        },
        "outputId": "3ec6802f-de42-43c2-8029-5cff5df5ab98"
      },
      "execution_count": 71,
      "outputs": [
        {
          "output_type": "execute_result",
          "data": {
            "text/plain": [
              "240"
            ]
          },
          "metadata": {},
          "execution_count": 71
        }
      ]
    },
    {
      "cell_type": "markdown",
      "source": [
        "wavelet transform & feature extraction"
      ],
      "metadata": {
        "id": "GEaa0793iHfB"
      }
    },
    {
      "cell_type": "code",
      "source": [
        "def feature_generator(df, channel_names, epoch_len):\n",
        "  #feature_df = pd.DataFrame()\n",
        "  channel_list = []\n",
        "  channel_dict = {}\n",
        "  num_epochs = int(len(df.index)/epoch_len)\n",
        "  #print(num_epochs)\n",
        "\n",
        "  for channel in range(len(channel_names)):\n",
        "    channel_list = []\n",
        "    for n in range(num_epochs):\n",
        "      data = df.iloc[n*epoch_len:(n+1)*epoch_len, channel]\n",
        "      coeffs = pywt.wavedec(data, wavelet)\n",
        "      for i, coeff in enumerate(coeffs[2:], 1):\n",
        "          #print(f'Detail Coefficients Level {i}')\n",
        "          mean, std, sk, se = calculate_features(coeff)\n",
        "          #feature = calculate_features(coeff)\n",
        "          channel_list.append(mean)\n",
        "          channel_list.append(std)\n",
        "          channel_list.append(sk)\n",
        "          channel_list.append(se)\n",
        "      mean, std, sk, se = calculate_features(coeffs[0])\n",
        "      channel_list.append(mean)\n",
        "      channel_list.append(std)\n",
        "      channel_list.append(sk)\n",
        "      channel_list.append(se)\n",
        "    #print(f\"For channel {channel} length is: \" + str(len(channel_list)))\n",
        "    channel_dict[channel_names[channel]] = channel_list\n",
        "    #print(channel_dict[channel_names[channel]])\n",
        "    feature_df = pd.DataFrame.from_dict(channel_dict)\n",
        "\n",
        "    #feature_df.iloc[channel] = channel_list\n",
        "  return feature_df\n",
        "\n",
        "    #print(f'Approx. Coefficients Level {i} for Channel {channel} epoch {n}')\n",
        "\n",
        "  #print(channel_list)\n",
        "  #channel_dict = {key: val for val, key in enumerate(channel_dict.keys(), channel_list)}\n",
        "\n",
        "#feature_generator(train, channel_names, 710)\n"
      ],
      "metadata": {
        "id": "hy0FEhZ4ZQvu"
      },
      "execution_count": null,
      "outputs": []
    },
    {
      "cell_type": "markdown",
      "source": [
        "main function"
      ],
      "metadata": {
        "id": "zQAHLWm9Q8PQ"
      }
    },
    {
      "cell_type": "code",
      "source": [
        "def preprocessing(df, epoch_len):\n",
        "   num_epochs = int(len(df.index)/epoch_len)\n",
        "   for channel in range(num_cols):\n",
        "      for n in range(num_epochs):\n",
        "          data = df.iloc[n*epoch:(n+1)*epoch, channel]\n",
        "          data = notch_filter(data, fs, 50, notch_quality_factor)\n",
        "          data = butter_bandpass_filter(data, lowcut, highcut, fs, order=filter_order)\n",
        "\n",
        "\n",
        "\n",
        "\n",
        "preprocessing(data, 710)"
      ],
      "metadata": {
        "id": "sdMgwNFeeZ9J"
      },
      "execution_count": null,
      "outputs": []
    },
    {
      "cell_type": "code",
      "source": [
        "df_temp.to_excel('test.xlsx', sheet_name='sheet1', index=False)"
      ],
      "metadata": {
        "id": "-UsKVUTaR4qo"
      },
      "execution_count": null,
      "outputs": []
    }
  ],
  "metadata": {
    "colab": {
      "provenance": [],
      "include_colab_link": true
    },
    "kernelspec": {
      "display_name": "Python 3",
      "name": "python3"
    },
    "language_info": {
      "name": "python"
    }
  },
  "nbformat": 4,
  "nbformat_minor": 0
}